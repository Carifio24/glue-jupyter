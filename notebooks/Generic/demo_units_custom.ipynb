{
 "cells": [
  {
   "cell_type": "markdown",
   "metadata": {},
   "source": [
    "This notebook demonstrates unit conversion in the profile viewer"
   ]
  },
  {
   "cell_type": "code",
   "execution_count": 1,
   "metadata": {},
   "outputs": [],
   "source": [
    "import numpy as np\n",
    "from astropy.wcs import WCS\n",
    "import glue_jupyter as gj\n",
    "from glue.core import Data\n",
    "from glue.plugins.wcs_autolinking.wcs_autolinking import WCSLink"
   ]
  },
  {
   "cell_type": "markdown",
   "metadata": {},
   "source": [
    "Set up two datasets with x-axes that use different spectral coordinates (which get auto-converted because of the WCSLink) and y-axes that use different temperature units (just to show how to add custom equivalencies)"
   ]
  },
  {
   "cell_type": "code",
   "execution_count": 2,
   "metadata": {},
   "outputs": [],
   "source": [
    "wcs1 = WCS(naxis=1)\n",
    "wcs1.wcs.ctype = ['WAVE']\n",
    "wcs1.wcs.crval = [10]\n",
    "wcs1.wcs.cdelt = [3]\n",
    "wcs1.wcs.crpix = [1]\n",
    "wcs1.wcs.cunit = ['cm']\n",
    "\n",
    "d1 = Data(temp1=np.random.random(10))\n",
    "d1.get_component('temp1').units = 'deg_C'\n",
    "d1.coords = wcs1"
   ]
  },
  {
   "cell_type": "code",
   "execution_count": 3,
   "metadata": {},
   "outputs": [],
   "source": [
    "wcs1 = WCS(naxis=1)\n",
    "wcs1.wcs.ctype = ['FREQ']\n",
    "wcs1.wcs.crval = [1000]\n",
    "wcs1.wcs.cdelt = [1000]\n",
    "wcs1.wcs.crpix = [1]\n",
    "wcs1.wcs.cunit = ['MHz']\n",
    "\n",
    "d2 = Data(temp2=np.random.random(10) + 273)\n",
    "d2.get_component('temp2').units = 'K'\n",
    "d2.coords = wcs1"
   ]
  },
  {
   "cell_type": "markdown",
   "metadata": {},
   "source": [
    "Set up a custom unit conversion class with equivalencies:"
   ]
  },
  {
   "cell_type": "code",
   "execution_count": 4,
   "metadata": {},
   "outputs": [],
   "source": [
    "from astropy import units as u\n",
    "from glue.core.units import unit_converter\n",
    "\n",
    "@unit_converter('custom-astropy')\n",
    "class UnitConverterWithTemperature:\n",
    "\n",
    "    def equivalent_units(self, data, cid, units):\n",
    "        equivalencies = u.temperature() if 'temp' in cid.label.lower() else None\n",
    "        return map(u.Unit(units).find_equivalent_units(include_prefix_units=True, equivalencies=equivalencies), str)\n",
    "\n",
    "    def to_unit(self, data, cid, values, original_units, target_units):\n",
    "        equivalencies = u.temperature() if 'temp' in cid.label.lower() else None\n",
    "        return (values * u.Unit(original_units)).to_value(target_units, equivalencies=equivalencies)"
   ]
  },
  {
   "cell_type": "markdown",
   "metadata": {},
   "source": [
    "Use the converter class defined above"
   ]
  },
  {
   "cell_type": "code",
   "execution_count": 5,
   "metadata": {},
   "outputs": [],
   "source": [
    "from glue.config import settings\n",
    "settings.UNIT_CONVERTER = 'custom-astropy'"
   ]
  },
  {
   "cell_type": "code",
   "execution_count": 6,
   "metadata": {},
   "outputs": [
    {
     "name": "stderr",
     "output_type": "stream",
     "text": [
      "/home/tom/Code/glue/glue/external/echo/__init__.py:3: UserWarning: glue.external.echo is deprecated, import from echo directly instead\n",
      "  warnings.warn('glue.external.echo is deprecated, import from echo directly instead')\n",
      "/home/tom/Code/glue/glue/viewers/common/qt/tool.py:5: UserWarning: glue.viewers.common.qt.tool is deprecated, use glue.viewers.common.tool instead\n",
      "  warnings.warn('glue.viewers.common.qt.tool is deprecated, use '\n"
     ]
    }
   ],
   "source": [
    "app = gj.jglue(spectrum1=d1, spectrum2=d2)"
   ]
  },
  {
   "cell_type": "code",
   "execution_count": 7,
   "metadata": {},
   "outputs": [
    {
     "data": {
      "application/vnd.jupyter.widget-view+json": {
       "model_id": "2a0aecff78eb426ebd3a5d1b126f5450",
       "version_major": 2,
       "version_minor": 0
      },
      "text/plain": [
       "Output()"
      ]
     },
     "metadata": {},
     "output_type": "display_data"
    }
   ],
   "source": [
    "app.output"
   ]
  },
  {
   "cell_type": "code",
   "execution_count": 8,
   "metadata": {},
   "outputs": [
    {
     "name": "stderr",
     "output_type": "stream",
     "text": [
      "WARNING: No observer defined on WCS, SpectralCoord will be converted without any velocity frame change [astropy.wcs.wcsapi.fitswcs]\n"
     ]
    }
   ],
   "source": [
    "app.data_collection.add_link(WCSLink(d1, d2))"
   ]
  },
  {
   "cell_type": "code",
   "execution_count": 9,
   "metadata": {},
   "outputs": [
    {
     "data": {
      "text/plain": [
       "DataCollection (2 data sets)\n",
       "\t  0: spectrum1\n",
       "\t  1: spectrum2"
      ]
     },
     "execution_count": 9,
     "metadata": {},
     "output_type": "execute_result"
    }
   ],
   "source": [
    "app.data_collection"
   ]
  },
  {
   "cell_type": "code",
   "execution_count": 10,
   "metadata": {
    "scrolled": false
   },
   "outputs": [
    {
     "name": "stdout",
     "output_type": "stream",
     "text": [
      "equiv None wave False\n",
      "equiv None wave False\n",
      "equiv None wave False\n",
      "equiv None wave False\n",
      "equiv None wave False\n"
     ]
    },
    {
     "data": {
      "application/vnd.jupyter.widget-view+json": {
       "model_id": "1250dc6ce1344abbab9245ac56c7ff90",
       "version_major": 2,
       "version_minor": 0
      },
      "text/plain": [
       "LayoutWidget(controls={'toolbar_selection_tools': BasicJupyterToolbar(template=Template(template='<template>\\n…"
      ]
     },
     "metadata": {},
     "output_type": "display_data"
    },
    {
     "name": "stderr",
     "output_type": "stream",
     "text": [
      "WARNING: No observer defined on WCS, SpectralCoord will be converted without any velocity frame change [astropy.wcs.wcsapi.fitswcs]\n",
      "WARNING:sunpy:No observer defined on WCS, SpectralCoord will be converted without any velocity frame change\n"
     ]
    },
    {
     "name": "stdout",
     "output_type": "stream",
     "text": [
      "equiv None wave False\n",
      "equiv None wave False\n",
      "equiv None wave False\n",
      "equiv None wave False\n",
      "equiv None wave False\n",
      "equiv None wave False\n",
      "equiv None wave False\n",
      "equiv None wave False\n",
      "equiv None wave False\n"
     ]
    },
    {
     "data": {
      "text/plain": [
       "True"
      ]
     },
     "execution_count": 10,
     "metadata": {},
     "output_type": "execute_result"
    }
   ],
   "source": [
    "s = app.profile1d(data=d1)\n",
    "s.add_data(d2)"
   ]
  },
  {
   "cell_type": "code",
   "execution_count": 11,
   "metadata": {},
   "outputs": [
    {
     "name": "stderr",
     "output_type": "stream",
     "text": [
      "WARNING: No observer defined on WCS, SpectralCoord will be converted without any velocity frame change [astropy.wcs.wcsapi.fitswcs]\n",
      "WARNING:sunpy:No observer defined on WCS, SpectralCoord will be converted without any velocity frame change\n"
     ]
    },
    {
     "name": "stdout",
     "output_type": "stream",
     "text": [
      "equiv None wave False\n",
      "equiv None wave False\n",
      "equiv None wave False\n",
      "equiv None wave False\n",
      "equiv [(Unit(\"K\"), Unit(\"deg_C\"), <function temperature.<locals>.<lambda> at 0x7f13d0f00160>, <function temperature.<locals>.<lambda> at 0x7f13d0f00670>), (Unit(\"deg_C\"), Unit(\"deg_F\"), <function temperature.<locals>.<lambda> at 0x7f13d0f00700>, <function temperature.<locals>.<lambda> at 0x7f13d0f00790>), (Unit(\"K\"), Unit(\"deg_F\"), <function temperature.<locals>.<lambda> at 0x7f13d0f00820>, <function temperature.<locals>.<lambda> at 0x7f13d0f008b0>), (Unit(\"deg_R\"), Unit(\"deg_F\"), <function temperature.<locals>.<lambda> at 0x7f13d0f00940>, <function temperature.<locals>.<lambda> at 0x7f13d0f009d0>), (Unit(\"deg_R\"), Unit(\"deg_C\"), <function temperature.<locals>.<lambda> at 0x7f13d0f00a60>, <function temperature.<locals>.<lambda> at 0x7f13d0f00b80>), (Unit(\"deg_R\"), Unit(\"K\"), <function temperature.<locals>.<lambda> at 0x7f13d0f00af0>, <function temperature.<locals>.<lambda> at 0x7f13d0f00c10>)] temp1 True\n",
      "equiv None wave False\n",
      "equiv [(Unit(\"K\"), Unit(\"deg_C\"), <function temperature.<locals>.<lambda> at 0x7f13d0f00a60>, <function temperature.<locals>.<lambda> at 0x7f13d0f00b80>), (Unit(\"deg_C\"), Unit(\"deg_F\"), <function temperature.<locals>.<lambda> at 0x7f13d0f00af0>, <function temperature.<locals>.<lambda> at 0x7f13d0f00c10>), (Unit(\"K\"), Unit(\"deg_F\"), <function temperature.<locals>.<lambda> at 0x7f13d0f051f0>, <function temperature.<locals>.<lambda> at 0x7f13d0f05160>), (Unit(\"deg_R\"), Unit(\"deg_F\"), <function temperature.<locals>.<lambda> at 0x7f13d0f05280>, <function temperature.<locals>.<lambda> at 0x7f13d0f05310>), (Unit(\"deg_R\"), Unit(\"deg_C\"), <function temperature.<locals>.<lambda> at 0x7f13d0f053a0>, <function temperature.<locals>.<lambda> at 0x7f13d0f05430>), (Unit(\"deg_R\"), Unit(\"K\"), <function temperature.<locals>.<lambda> at 0x7f13d0f05550>, <function temperature.<locals>.<lambda> at 0x7f13d0f054c0>)] temp2 True\n",
      "equiv None wave False\n",
      "equiv [(Unit(\"K\"), Unit(\"deg_C\"), <function temperature.<locals>.<lambda> at 0x7f13d0f053a0>, <function temperature.<locals>.<lambda> at 0x7f13d0f05430>), (Unit(\"deg_C\"), Unit(\"deg_F\"), <function temperature.<locals>.<lambda> at 0x7f13d0f05550>, <function temperature.<locals>.<lambda> at 0x7f13d0f054c0>), (Unit(\"K\"), Unit(\"deg_F\"), <function temperature.<locals>.<lambda> at 0x7f13d0f05a60>, <function temperature.<locals>.<lambda> at 0x7f13d0f05af0>), (Unit(\"deg_R\"), Unit(\"deg_F\"), <function temperature.<locals>.<lambda> at 0x7f13d0f05b80>, <function temperature.<locals>.<lambda> at 0x7f13d0f05c10>), (Unit(\"deg_R\"), Unit(\"deg_C\"), <function temperature.<locals>.<lambda> at 0x7f13d0f05ca0>, <function temperature.<locals>.<lambda> at 0x7f13d0f05d30>), (Unit(\"deg_R\"), Unit(\"K\"), <function temperature.<locals>.<lambda> at 0x7f13d0f05dc0>, <function temperature.<locals>.<lambda> at 0x7f13d0f05e50>)] temp1 True\n",
      "equiv None wave False\n",
      "equiv [(Unit(\"K\"), Unit(\"deg_C\"), <function temperature.<locals>.<lambda> at 0x7f13d0f008b0>, <function temperature.<locals>.<lambda> at 0x7f13d0f009d0>), (Unit(\"deg_C\"), Unit(\"deg_F\"), <function temperature.<locals>.<lambda> at 0x7f13d0f00790>, <function temperature.<locals>.<lambda> at 0x7f13d0f00820>), (Unit(\"K\"), Unit(\"deg_F\"), <function temperature.<locals>.<lambda> at 0x7f13d0f00700>, <function temperature.<locals>.<lambda> at 0x7f13d0f00160>), (Unit(\"deg_R\"), Unit(\"deg_F\"), <function temperature.<locals>.<lambda> at 0x7f13d0f00f70>, <function temperature.<locals>.<lambda> at 0x7f13d0f00ee0>), (Unit(\"deg_R\"), Unit(\"deg_C\"), <function temperature.<locals>.<lambda> at 0x7f13d0f00e50>, <function temperature.<locals>.<lambda> at 0x7f13d0f00dc0>), (Unit(\"deg_R\"), Unit(\"K\"), <function temperature.<locals>.<lambda> at 0x7f13d0f00d30>, <function temperature.<locals>.<lambda> at 0x7f13d0f00ca0>)] temp2 True\n",
      "equiv None wave False\n",
      "equiv [(Unit(\"K\"), Unit(\"deg_C\"), <function temperature.<locals>.<lambda> at 0x7f13d0f00c10>, <function temperature.<locals>.<lambda> at 0x7f13d0f00af0>), (Unit(\"deg_C\"), Unit(\"deg_F\"), <function temperature.<locals>.<lambda> at 0x7f13d0f009d0>, <function temperature.<locals>.<lambda> at 0x7f13d0f00790>), (Unit(\"K\"), Unit(\"deg_F\"), <function temperature.<locals>.<lambda> at 0x7f13d0f00820>, <function temperature.<locals>.<lambda> at 0x7f13d0f00700>), (Unit(\"deg_R\"), Unit(\"deg_F\"), <function temperature.<locals>.<lambda> at 0x7f13d0f00160>, <function temperature.<locals>.<lambda> at 0x7f13d0f00f70>), (Unit(\"deg_R\"), Unit(\"deg_C\"), <function temperature.<locals>.<lambda> at 0x7f13d0f00ee0>, <function temperature.<locals>.<lambda> at 0x7f13d0f00e50>), (Unit(\"deg_R\"), Unit(\"K\"), <function temperature.<locals>.<lambda> at 0x7f13d0f00dc0>, <function temperature.<locals>.<lambda> at 0x7f13d0f00d30>)] temp1 True\n",
      "equiv None wave False\n",
      "equiv [(Unit(\"K\"), Unit(\"deg_C\"), <function temperature.<locals>.<lambda> at 0x7f13d0c834c0>, <function temperature.<locals>.<lambda> at 0x7f13d0c83670>), (Unit(\"deg_C\"), Unit(\"deg_F\"), <function temperature.<locals>.<lambda> at 0x7f13d0c83550>, <function temperature.<locals>.<lambda> at 0x7f13d0c83820>), (Unit(\"K\"), Unit(\"deg_F\"), <function temperature.<locals>.<lambda> at 0x7f13d0ce4f70>, <function temperature.<locals>.<lambda> at 0x7f13d0ce4d30>), (Unit(\"deg_R\"), Unit(\"deg_F\"), <function temperature.<locals>.<lambda> at 0x7f13d0ce4820>, <function temperature.<locals>.<lambda> at 0x7f13d0ce4af0>), (Unit(\"deg_R\"), Unit(\"deg_C\"), <function temperature.<locals>.<lambda> at 0x7f13d0ce4a60>, <function temperature.<locals>.<lambda> at 0x7f13d0ce4ca0>), (Unit(\"deg_R\"), Unit(\"K\"), <function temperature.<locals>.<lambda> at 0x7f13d0ce44c0>, <function temperature.<locals>.<lambda> at 0x7f13d0ce4e50>)] temp2 True\n"
     ]
    }
   ],
   "source": [
    "s.state.x_display_unit = 'cm'\n",
    "s.state.y_display_unit = 'K'"
   ]
  },
  {
   "cell_type": "code",
   "execution_count": null,
   "metadata": {},
   "outputs": [],
   "source": []
  }
 ],
 "metadata": {
  "kernelspec": {
   "display_name": "Python 3 (ipykernel)",
   "language": "python",
   "name": "python3"
  },
  "language_info": {
   "codemirror_mode": {
    "name": "ipython",
    "version": 3
   },
   "file_extension": ".py",
   "mimetype": "text/x-python",
   "name": "python",
   "nbconvert_exporter": "python",
   "pygments_lexer": "ipython3",
   "version": "3.9.5"
  }
 },
 "nbformat": 4,
 "nbformat_minor": 2
}
