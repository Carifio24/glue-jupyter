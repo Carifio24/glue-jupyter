{
 "cells": [
  {
   "cell_type": "code",
   "execution_count": null,
   "metadata": {},
   "outputs": [],
   "source": [
    "%gui qt"
   ]
  },
  {
   "cell_type": "code",
   "execution_count": null,
   "metadata": {},
   "outputs": [],
   "source": [
    "import glue_jupyter as gj\n",
    "from glue.core import DataCollection\n",
    "import glue_jupyter.tests.main_test as test\n",
    "import numpy as np\n",
    "import bqplot"
   ]
  },
  {
   "cell_type": "code",
   "execution_count": null,
   "metadata": {},
   "outputs": [],
   "source": [
    "def data_xyz(seed=42, N=1000):\n",
    "    from glue.core import Data\n",
    "    rng = np.random.RandomState(seed)\n",
    "    x, y, z = rng.normal(size=(3, N))\n",
    "    data_xyz = Data(x=x, y=y, label=\"xyz data\")\n",
    "    return data_xyz\n",
    "dataxyz = data_xyz()\n",
    "dc = DataCollection([dataxyz])"
   ]
  },
  {
   "cell_type": "code",
   "execution_count": null,
   "metadata": {},
   "outputs": [],
   "source": [
    "japp = gj.JupyterApplication(data_collection=dc)\n",
    "s = japp.scatter2d('x', 'y', data=dataxyz)"
   ]
  },
  {
   "cell_type": "code",
   "execution_count": null,
   "metadata": {},
   "outputs": [],
   "source": [
    "from glue.app.qt.application import GlueApplication\n",
    "qapp = GlueApplication(dc)\n",
    "qapp.start()"
   ]
  },
  {
   "cell_type": "code",
   "execution_count": null,
   "metadata": {},
   "outputs": [],
   "source": [
    "# Now you can make subsets in both qt and bqplot, and change colors in qt"
   ]
  }
 ],
 "metadata": {
  "kernelspec": {
   "display_name": "Python 3",
   "language": "python",
   "name": "python3"
  },
  "language_info": {
   "codemirror_mode": {
    "name": "ipython",
    "version": 3
   },
   "file_extension": ".py",
   "mimetype": "text/x-python",
   "name": "python",
   "nbconvert_exporter": "python",
   "pygments_lexer": "ipython3",
   "version": "3.6.3"
  }
 },
 "nbformat": 4,
 "nbformat_minor": 2
}
