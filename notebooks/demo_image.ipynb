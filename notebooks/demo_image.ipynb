{
 "cells": [
  {
   "cell_type": "markdown",
   "metadata": {},
   "source": [
    "# Image viewer\n",
    " * colormapping in frontend, quite fast, almost no data transfer\n",
    " * TODO\n",
    "     * missing strech\n",
    "     * missing custom minmax\n",
    "     * just a few colormaps\n",
    "     * colorbar is the last one used"
   ]
  },
  {
   "cell_type": "code",
   "execution_count": null,
   "metadata": {},
   "outputs": [],
   "source": [
    "import glue_jupyter as gj\n",
    "from glue.core.component_link import ComponentLink\n",
    "from glue.core.data_factories import load_data"
   ]
  },
  {
   "cell_type": "code",
   "execution_count": null,
   "metadata": {},
   "outputs": [],
   "source": [
    "img = load_data('/Users/maartenbreddels/src/glue/notebooks/w5/w5.fits')\n",
    "table = load_data('/Users/maartenbreddels/src/glue/notebooks/w5/w5_psc.vot')"
   ]
  },
  {
   "cell_type": "code",
   "execution_count": null,
   "metadata": {},
   "outputs": [],
   "source": [
    "#table = gj.example_data_xyz(loc=400, scale=100)\n",
    "app = gj.jglue(img=img, table=table)\n",
    "\n",
    "link1 =  ComponentLink([img.id['Right Ascension']], table.id['RAJ2000'])\n",
    "link2 =  ComponentLink([img.id['Declination']], table.id['DEJ2000'])\n",
    "\n",
    "app.data_collection.add_link([link1, link2])"
   ]
  },
  {
   "cell_type": "code",
   "execution_count": null,
   "metadata": {},
   "outputs": [],
   "source": [
    "i = app.imshow()"
   ]
  },
  {
   "cell_type": "code",
   "execution_count": null,
   "metadata": {},
   "outputs": [],
   "source": [
    "i.add_data(table)"
   ]
  },
  {
   "cell_type": "code",
   "execution_count": null,
   "metadata": {},
   "outputs": [],
   "source": []
  }
 ],
 "metadata": {
  "kernelspec": {
   "display_name": "Python 3",
   "language": "python",
   "name": "python3"
  },
  "language_info": {
   "codemirror_mode": {
    "name": "ipython",
    "version": 3
   },
   "file_extension": ".py",
   "mimetype": "text/x-python",
   "name": "python",
   "nbconvert_exporter": "python",
   "pygments_lexer": "ipython3",
   "version": "3.6.4"
  }
 },
 "nbformat": 4,
 "nbformat_minor": 2
}
