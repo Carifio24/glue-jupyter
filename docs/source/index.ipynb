{
 "cells": [
  {
   "cell_type": "markdown",
   "metadata": {},
   "source": [
    "# Glue in the Jupyter Notebook\n",
    "## Installation\n",
    "\n",
    "(Note these are not working yet)\n",
    "To install use pip:\n",
    "\n",
    "```\n",
    "$ pip install glue-jupyter\n",
    "```\n",
    "\n",
    "To make it work in Jupyter lab:\n",
    "```\n",
    "$ jupyter labextension install @jupyter-widgets/jupyterlab-manager bqplot ipyvolume jupyter-threejs\n",
    "```\n",
    "\n",
    "You can download the data files for this tutorial here:\n",
    " * [w5.tgz](http://docs.glueviz.org/en/stable/_downloads/w5.tgz)\n",
    " * [w5.zip](http://docs.glueviz.org/en/stable/_downloads/w5.zip)"
   ]
  },
  {
   "cell_type": "code",
   "execution_count": null,
   "metadata": {},
   "outputs": [],
   "source": [
    "import glue_jupyter as gj"
   ]
  },
  {
   "cell_type": "code",
   "execution_count": null,
   "metadata": {},
   "outputs": [],
   "source": [
    "image = gj.load('./w5/w5.fits')\n",
    "sources = gj.load('./w5/w5_psc.vot')\n",
    "app = gj.jglue(image=image, sources=sources)\n",
    "app.link([('sources.RAJ2000', 'image.Right Ascension'), ('sources.DEJ2000', 'image.Declination')])"
   ]
  },
  {
   "cell_type": "code",
   "execution_count": null,
   "metadata": {},
   "outputs": [],
   "source": [
    "sources['Jmag'].shape"
   ]
  },
  {
   "cell_type": "code",
   "execution_count": null,
   "metadata": {},
   "outputs": [],
   "source": [
    "im = app.imshow()"
   ]
  },
  {
   "cell_type": "code",
   "execution_count": null,
   "metadata": {},
   "outputs": [],
   "source": [
    "layer0 = im.layers[0]\n",
    "layer0.state.percentile = 99"
   ]
  },
  {
   "cell_type": "code",
   "execution_count": null,
   "metadata": {},
   "outputs": [],
   "source": [
    "image.component_ids()"
   ]
  },
  {
   "cell_type": "code",
   "execution_count": null,
   "metadata": {},
   "outputs": [],
   "source": [
    "app.subset_lasso2d(image.id['Pixel Axis 1 [x]'], image.id['Pixel Axis 0 [y]'], [400, 600, 500, 400], [400, 400, 700, 700])"
   ]
  },
  {
   "cell_type": "code",
   "execution_count": null,
   "metadata": {},
   "outputs": [],
   "source": [
    "# app.scatter2d('RAJ2000', 'DEJ2000', data=sources)"
   ]
  },
  {
   "cell_type": "code",
   "execution_count": null,
   "metadata": {},
   "outputs": [],
   "source": [
    "app.histogram1d('RAJ2000', data=sources)"
   ]
  },
  {
   "cell_type": "code",
   "execution_count": null,
   "metadata": {},
   "outputs": [],
   "source": []
  }
 ],
 "metadata": {
  "kernelspec": {
   "display_name": "Python 3",
   "language": "python",
   "name": "python3"
  },
  "language_info": {
   "codemirror_mode": {
    "name": "ipython",
    "version": 3
   },
   "file_extension": ".py",
   "mimetype": "text/x-python",
   "name": "python",
   "nbconvert_exporter": "python",
   "pygments_lexer": "ipython3",
   "version": "3.6.4"
  }
 },
 "nbformat": 4,
 "nbformat_minor": 2
}
